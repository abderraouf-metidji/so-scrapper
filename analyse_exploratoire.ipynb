{
 "cells": [
  {
   "cell_type": "code",
   "execution_count": 1,
   "metadata": {},
   "outputs": [],
   "source": [
    "# imports\n",
    "import pandas as pd \n",
    "import numpy as np\n",
    "import matplotlib.pyplot as plt\n",
    "import seaborn as sns\n",
    "import plotly.express as px\n",
    "import pymongo"
   ]
  },
  {
   "cell_type": "code",
   "execution_count": 2,
   "metadata": {},
   "outputs": [
    {
     "data": {
      "text/html": [
       "<div>\n",
       "<style scoped>\n",
       "    .dataframe tbody tr th:only-of-type {\n",
       "        vertical-align: middle;\n",
       "    }\n",
       "\n",
       "    .dataframe tbody tr th {\n",
       "        vertical-align: top;\n",
       "    }\n",
       "\n",
       "    .dataframe thead th {\n",
       "        text-align: right;\n",
       "    }\n",
       "</style>\n",
       "<table border=\"1\" class=\"dataframe\">\n",
       "  <thead>\n",
       "    <tr style=\"text-align: right;\">\n",
       "      <th></th>\n",
       "      <th>_id</th>\n",
       "      <th>title</th>\n",
       "      <th>link</th>\n",
       "      <th>summary</th>\n",
       "      <th>tags</th>\n",
       "      <th>author</th>\n",
       "      <th>date</th>\n",
       "    </tr>\n",
       "  </thead>\n",
       "  <tbody>\n",
       "    <tr>\n",
       "      <th>0</th>\n",
       "      <td>669931181af4c7edc23b5934</td>\n",
       "      <td>Why is there are performance penalty when usin...</td>\n",
       "      <td>https://stackoverflow.com/questions/78765285/w...</td>\n",
       "      <td>Sure there are other ways to do this but just ...</td>\n",
       "      <td>[c#, .net, file-io]</td>\n",
       "      <td>wecky</td>\n",
       "      <td>2024-07-18 15:12:57Z</td>\n",
       "    </tr>\n",
       "    <tr>\n",
       "      <th>1</th>\n",
       "      <td>669931181af4c7edc23b5935</td>\n",
       "      <td>Why does the MDX Order function with ASC sort ...</td>\n",
       "      <td>https://stackoverflow.com/questions/78765283/w...</td>\n",
       "      <td>Version\\nI am using Microsoft Analysis Service...</td>\n",
       "      <td>[ssas, mdx]</td>\n",
       "      <td>doc</td>\n",
       "      <td>2024-07-18 15:12:27Z</td>\n",
       "    </tr>\n",
       "    <tr>\n",
       "      <th>2</th>\n",
       "      <td>669931181af4c7edc23b5936</td>\n",
       "      <td>How do I make elements show during an operatio...</td>\n",
       "      <td>https://stackoverflow.com/questions/78765282/h...</td>\n",
       "      <td>I am making a sorting algorithm visualizer usi...</td>\n",
       "      <td>[javascript, sorting, visualization]</td>\n",
       "      <td>STM</td>\n",
       "      <td>2024-07-18 15:11:49Z</td>\n",
       "    </tr>\n",
       "    <tr>\n",
       "      <th>3</th>\n",
       "      <td>669931181af4c7edc23b5937</td>\n",
       "      <td>didJustFinish never turns false even if the so...</td>\n",
       "      <td>https://stackoverflow.com/questions/78765279/d...</td>\n",
       "      <td>Hello fellow developers,\\nI'm encountering a p...</td>\n",
       "      <td>[react-native, expo, expo-av]</td>\n",
       "      <td>SomeOne</td>\n",
       "      <td>2024-07-18 15:11:17Z</td>\n",
       "    </tr>\n",
       "    <tr>\n",
       "      <th>4</th>\n",
       "      <td>669931181af4c7edc23b5938</td>\n",
       "      <td>Azure Logic App POST request to Microsoft Grap...</td>\n",
       "      <td>https://stackoverflow.com/questions/78765275/a...</td>\n",
       "      <td>I'm experiencing an issue with an Azure Logic ...</td>\n",
       "      <td>[azure-logic-apps]</td>\n",
       "      <td>khanikar</td>\n",
       "      <td>2024-07-18 15:09:52Z</td>\n",
       "    </tr>\n",
       "  </tbody>\n",
       "</table>\n",
       "</div>"
      ],
      "text/plain": [
       "                        _id  \\\n",
       "0  669931181af4c7edc23b5934   \n",
       "1  669931181af4c7edc23b5935   \n",
       "2  669931181af4c7edc23b5936   \n",
       "3  669931181af4c7edc23b5937   \n",
       "4  669931181af4c7edc23b5938   \n",
       "\n",
       "                                               title  \\\n",
       "0  Why is there are performance penalty when usin...   \n",
       "1  Why does the MDX Order function with ASC sort ...   \n",
       "2  How do I make elements show during an operatio...   \n",
       "3  didJustFinish never turns false even if the so...   \n",
       "4  Azure Logic App POST request to Microsoft Grap...   \n",
       "\n",
       "                                                link  \\\n",
       "0  https://stackoverflow.com/questions/78765285/w...   \n",
       "1  https://stackoverflow.com/questions/78765283/w...   \n",
       "2  https://stackoverflow.com/questions/78765282/h...   \n",
       "3  https://stackoverflow.com/questions/78765279/d...   \n",
       "4  https://stackoverflow.com/questions/78765275/a...   \n",
       "\n",
       "                                             summary  \\\n",
       "0  Sure there are other ways to do this but just ...   \n",
       "1  Version\\nI am using Microsoft Analysis Service...   \n",
       "2  I am making a sorting algorithm visualizer usi...   \n",
       "3  Hello fellow developers,\\nI'm encountering a p...   \n",
       "4  I'm experiencing an issue with an Azure Logic ...   \n",
       "\n",
       "                                   tags    author                  date  \n",
       "0                   [c#, .net, file-io]     wecky  2024-07-18 15:12:57Z  \n",
       "1                           [ssas, mdx]       doc  2024-07-18 15:12:27Z  \n",
       "2  [javascript, sorting, visualization]       STM  2024-07-18 15:11:49Z  \n",
       "3         [react-native, expo, expo-av]   SomeOne  2024-07-18 15:11:17Z  \n",
       "4                    [azure-logic-apps]  khanikar  2024-07-18 15:09:52Z  "
      ]
     },
     "execution_count": 2,
     "metadata": {},
     "output_type": "execute_result"
    }
   ],
   "source": [
    "# Import de la data a partir de mangodb\n",
    "client = pymongo.MongoClient(\"mongodb://localhost:27017/\")\n",
    "db = client[\"scrapping_stackoverflow\"]\n",
    "collection = db[\"questions\"]\n",
    "\n",
    "# On verifie que la connexion est bien établie et on affiche les 5 premières lignes\n",
    "data = pd.DataFrame(list(collection.find()))\n",
    "data.head()"
   ]
  },
  {
   "cell_type": "code",
   "execution_count": 3,
   "metadata": {},
   "outputs": [],
   "source": [
    "# Suppression de la colonne id\n",
    "data.drop(columns=['_id'], inplace=True)"
   ]
  },
  {
   "cell_type": "code",
   "execution_count": 4,
   "metadata": {},
   "outputs": [
    {
     "data": {
      "text/html": [
       "<div>\n",
       "<style scoped>\n",
       "    .dataframe tbody tr th:only-of-type {\n",
       "        vertical-align: middle;\n",
       "    }\n",
       "\n",
       "    .dataframe tbody tr th {\n",
       "        vertical-align: top;\n",
       "    }\n",
       "\n",
       "    .dataframe thead th {\n",
       "        text-align: right;\n",
       "    }\n",
       "</style>\n",
       "<table border=\"1\" class=\"dataframe\">\n",
       "  <thead>\n",
       "    <tr style=\"text-align: right;\">\n",
       "      <th></th>\n",
       "      <th>title</th>\n",
       "      <th>link</th>\n",
       "      <th>summary</th>\n",
       "      <th>tags</th>\n",
       "      <th>author</th>\n",
       "      <th>date</th>\n",
       "      <th>tag</th>\n",
       "    </tr>\n",
       "  </thead>\n",
       "  <tbody>\n",
       "    <tr>\n",
       "      <th>0</th>\n",
       "      <td>Why is there are performance penalty when usin...</td>\n",
       "      <td>https://stackoverflow.com/questions/78765285/w...</td>\n",
       "      <td>Sure there are other ways to do this but just ...</td>\n",
       "      <td>[c#, .net, file-io]</td>\n",
       "      <td>wecky</td>\n",
       "      <td>2024-07-18 15:12:57Z</td>\n",
       "      <td>c#</td>\n",
       "    </tr>\n",
       "    <tr>\n",
       "      <th>1</th>\n",
       "      <td>Why does the MDX Order function with ASC sort ...</td>\n",
       "      <td>https://stackoverflow.com/questions/78765283/w...</td>\n",
       "      <td>Version\\nI am using Microsoft Analysis Service...</td>\n",
       "      <td>[ssas, mdx]</td>\n",
       "      <td>doc</td>\n",
       "      <td>2024-07-18 15:12:27Z</td>\n",
       "      <td>ssas</td>\n",
       "    </tr>\n",
       "    <tr>\n",
       "      <th>2</th>\n",
       "      <td>How do I make elements show during an operatio...</td>\n",
       "      <td>https://stackoverflow.com/questions/78765282/h...</td>\n",
       "      <td>I am making a sorting algorithm visualizer usi...</td>\n",
       "      <td>[javascript, sorting, visualization]</td>\n",
       "      <td>STM</td>\n",
       "      <td>2024-07-18 15:11:49Z</td>\n",
       "      <td>javascript</td>\n",
       "    </tr>\n",
       "    <tr>\n",
       "      <th>3</th>\n",
       "      <td>didJustFinish never turns false even if the so...</td>\n",
       "      <td>https://stackoverflow.com/questions/78765279/d...</td>\n",
       "      <td>Hello fellow developers,\\nI'm encountering a p...</td>\n",
       "      <td>[react-native, expo, expo-av]</td>\n",
       "      <td>SomeOne</td>\n",
       "      <td>2024-07-18 15:11:17Z</td>\n",
       "      <td>react-native</td>\n",
       "    </tr>\n",
       "    <tr>\n",
       "      <th>4</th>\n",
       "      <td>Azure Logic App POST request to Microsoft Grap...</td>\n",
       "      <td>https://stackoverflow.com/questions/78765275/a...</td>\n",
       "      <td>I'm experiencing an issue with an Azure Logic ...</td>\n",
       "      <td>[azure-logic-apps]</td>\n",
       "      <td>khanikar</td>\n",
       "      <td>2024-07-18 15:09:52Z</td>\n",
       "      <td>azure-logic-apps</td>\n",
       "    </tr>\n",
       "  </tbody>\n",
       "</table>\n",
       "</div>"
      ],
      "text/plain": [
       "                                               title  \\\n",
       "0  Why is there are performance penalty when usin...   \n",
       "1  Why does the MDX Order function with ASC sort ...   \n",
       "2  How do I make elements show during an operatio...   \n",
       "3  didJustFinish never turns false even if the so...   \n",
       "4  Azure Logic App POST request to Microsoft Grap...   \n",
       "\n",
       "                                                link  \\\n",
       "0  https://stackoverflow.com/questions/78765285/w...   \n",
       "1  https://stackoverflow.com/questions/78765283/w...   \n",
       "2  https://stackoverflow.com/questions/78765282/h...   \n",
       "3  https://stackoverflow.com/questions/78765279/d...   \n",
       "4  https://stackoverflow.com/questions/78765275/a...   \n",
       "\n",
       "                                             summary  \\\n",
       "0  Sure there are other ways to do this but just ...   \n",
       "1  Version\\nI am using Microsoft Analysis Service...   \n",
       "2  I am making a sorting algorithm visualizer usi...   \n",
       "3  Hello fellow developers,\\nI'm encountering a p...   \n",
       "4  I'm experiencing an issue with an Azure Logic ...   \n",
       "\n",
       "                                   tags    author                  date  \\\n",
       "0                   [c#, .net, file-io]     wecky  2024-07-18 15:12:57Z   \n",
       "1                           [ssas, mdx]       doc  2024-07-18 15:12:27Z   \n",
       "2  [javascript, sorting, visualization]       STM  2024-07-18 15:11:49Z   \n",
       "3         [react-native, expo, expo-av]   SomeOne  2024-07-18 15:11:17Z   \n",
       "4                    [azure-logic-apps]  khanikar  2024-07-18 15:09:52Z   \n",
       "\n",
       "                tag  \n",
       "0                c#  \n",
       "1              ssas  \n",
       "2        javascript  \n",
       "3      react-native  \n",
       "4  azure-logic-apps  "
      ]
     },
     "execution_count": 4,
     "metadata": {},
     "output_type": "execute_result"
    }
   ],
   "source": [
    "# Extraction du premier mot des tags pour faciliter la visualisation\n",
    "data['tag'] = data['tags'].apply(lambda x: x[0])\n",
    "\n",
    "# On affiche les 5 premières lignes\n",
    "data.head()"
   ]
  },
  {
   "cell_type": "markdown",
   "metadata": {},
   "source": [
    "Ici on regroupe les tags en utilisant uniquement le premier mot. Cela nous permet de regrouper les langages qui sont partagés en différents tags afin d'avoir une vision plus globale des questions posées et à quel langage ces questions font référence."
   ]
  },
  {
   "cell_type": "code",
   "execution_count": 5,
   "metadata": {},
   "outputs": [
    {
     "data": {
      "image/png": "[encoded data removed]",
      "text/plain": [
       "<Figure size 1200x600 with 1 Axes>"
      ]
     },
     "metadata": {},
     "output_type": "display_data"
    }
   ],
   "source": [
    "# Affichage en histogramme des 15 tags les plus fréquents\n",
    "plt.figure(figsize=(12, 6))\n",
    "data['tags'].value_counts().head(10).plot(kind='bar', color='darkblue')\n",
    "plt.title('Top 10 tags')\n",
    "plt.xlabel('Tag')\n",
    "plt.ylabel('Count')\n",
    "plt.xticks(rotation=0)\n",
    "plt.rc('xtick', labelsize=8)\n",
    "plt.show()"
   ]
  },
  {
   "cell_type": "markdown",
   "metadata": {},
   "source": [
    "On peut voir que le tag qui revient le plus est le tag **javascript**. On retrouve egalement les tags comme **flutter** et **excel, vba** en 2eme position avec un nombre identique de tags."
   ]
  },
  {
   "cell_type": "code",
   "execution_count": 6,
   "metadata": {},
   "outputs": [
    {
     "data": {
      "image/png": "[encoded data removed]",
      "text/plain": [
       "<Figure size 1200x600 with 1 Axes>"
      ]
     },
     "metadata": {},
     "output_type": "display_data"
    }
   ],
   "source": [
    "# Affichage en histogramme des 15 tags les plus fréquents\n",
    "plt.figure(figsize=(12, 6))\n",
    "data['tag'].value_counts().head(10).plot(kind='bar', color='darkblue')\n",
    "plt.title('Top 10 tags')\n",
    "plt.xlabel('Tag')\n",
    "plt.ylabel('Count')\n",
    "plt.xticks(rotation=0)\n",
    "plt.rc('xtick', labelsize=12)\n",
    "plt.show()"
   ]
  },
  {
   "cell_type": "markdown",
   "metadata": {},
   "source": [
    "Si on utilise la nouvelle colonne **tag** au lieu de la colonne tags, on visualize les tags les plus présents dans les questions et là on se rend compte que **python** est en première position et que **javascript** passe en deuxième position. **Excel / VBA** par contre n'est plus dans le top 10. "
   ]
  },
  {
   "cell_type": "code",
   "execution_count": 8,
   "metadata": {},
   "outputs": [
    {
     "data": {
      "image/png": "[encoded data removed]",
      "text/plain": [
       "<Figure size 1200x600 with 1 Axes>"
      ]
     },
     "metadata": {},
     "output_type": "display_data"
    }
   ],
   "source": [
    "# Affichage en histogramme des 10 tags les moins fréquents\n",
    "plt.figure(figsize=(12, 6))\n",
    "data['tag'].value_counts().tail(10).plot(kind='bar', color='darkred')\n",
    "plt.title('Bottom 10 tags')\n",
    "plt.xlabel('Tag', fontsize=10)\n",
    "plt.ylabel('Count')\n",
    "plt.rc('xtick', labelsize=8)\n",
    "plt.xticks(rotation=0)\n",
    "plt.show()"
   ]
  },
  {
   "cell_type": "markdown",
   "metadata": {},
   "source": [
    "Ici on peut voir les tags les moins utilisés pour les questions posées. On a utilisé la colonne tag afin d'avoir les résultats regroupés."
   ]
  }
 ],
 "metadata": {
  "kernelspec": {
   "display_name": "Python 3",
   "language": "python",
   "name": "python3"
  },
  "language_info": {
   "codemirror_mode": {
    "name": "ipython",
    "version": 3
   },
   "file_extension": ".py",
   "mimetype": "text/x-python",
   "name": "python",
   "nbconvert_exporter": "python",
   "pygments_lexer": "ipython3",
   "version": "3.12.4"
  }
 },
 "nbformat": 4,
 "nbformat_minor": 2
}
